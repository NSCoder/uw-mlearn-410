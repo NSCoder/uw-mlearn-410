{
 "cells": [
  {
   "cell_type": "markdown",
   "metadata": {
    "nbgrader": {
     "grade": false,
     "locked": true,
     "solution": false
    }
   },
   "source": [
    "# Lesson 1a: Perceptron Learning"
   ]
  },
  {
   "cell_type": "markdown",
   "metadata": {
    "nbgrader": {
     "grade": false,
     "locked": true,
     "solution": false
    }
   },
   "source": [
    "In this lesson you will implement one of the first algorithms from the history of neural networks: the perceptron.\n",
    "\n",
    "You will NOT be using Keras/Tensorflow or other machine learning toolkits for this problem. Instead, you will implement the perceptron learning rule yourself.\n",
    "\n",
    "Read over the code below. Much has already been done. Areas where you need to add your own code are marked with \"TODO\" comments."
   ]
  },
  {
   "cell_type": "code",
   "execution_count": 1,
   "metadata": {},
   "outputs": [],
   "source": [
    "%matplotlib inline\n",
    "import matplotlib.pyplot as plt\n",
    "import numpy as np\n",
    "from sklearn import datasets"
   ]
  },
  {
   "cell_type": "code",
   "execution_count": 2,
   "metadata": {
    "nbgrader": {
     "grade": false,
     "locked": true,
     "solution": false
    }
   },
   "outputs": [],
   "source": [
    "# Import the 'iris' dataset.\n",
    "iris = datasets.load_iris()\n",
    "X = iris.data[:, :2]  # Use the first two features.\n",
    "y = iris.target\n",
    "x_min = min(X[:, 0])\n",
    "x_max = max(X[:, 0])"
   ]
  },
  {
   "cell_type": "code",
   "execution_count": 3,
   "metadata": {
    "nbgrader": {
     "grade": false,
     "locked": true,
     "solution": false
    }
   },
   "outputs": [
    {
     "data": {
      "image/png": "[encoded data removed]",
      "text/plain": [
       "<Figure size 576x432 with 1 Axes>"
      ]
     },
     "metadata": {
      "needs_background": "light"
     },
     "output_type": "display_data"
    }
   ],
   "source": [
    "# Plot the data points.\n",
    "def make_plot():\n",
    "    plt.figure(figsize=(8, 6))\n",
    "    markers = ['o', 's', '_']\n",
    "    colors = 'tab:blue', 'tab:orange', 'tab:green'\n",
    "    for i, cat in enumerate(np.unique(y)):\n",
    "        plt.scatter(X[:, 0][y==cat], X[:, 1][y==cat], c=colors[i], marker=markers[i])\n",
    "    plt.xlabel('Sepal length')\n",
    "    plt.ylabel('Sepal width')\n",
    "    plt.legend(['0: Setosa', '1: Versicolour', '2: Virginica'])\n",
    "make_plot()"
   ]
  },
  {
   "cell_type": "markdown",
   "metadata": {
    "nbgrader": {
     "grade": false,
     "locked": true,
     "solution": false
    }
   },
   "source": [
    "## Build a perceptron to distinguish Setosa from the other two varieties"
   ]
  },
  {
   "cell_type": "markdown",
   "metadata": {
    "nbgrader": {
     "grade": false,
     "locked": true,
     "solution": false
    }
   },
   "source": [
    "Versicolour and Virginica are intermixed in this plot; note that some datapoints have identical (length, width) values but differente categories! Thus, we will focus on distinguishing Setosa from the other two, because perceptrons require data to be linearlly separable.\n",
    "\n",
    "The perceptron will have a simple structure:\n",
    "    \n",
    "    * Two input nodes: one for Sepal length, one for Sepal width.\n",
    "    * One output node: the output will be 0 for Setosa (category 0), and 1 for either of the other two categories."
   ]
  },
  {
   "cell_type": "code",
   "execution_count": 42,
   "metadata": {},
   "outputs": [],
   "source": [
    "class Perceptron():\n",
    "    \"\"\"Simple perceptron with 2 inputs and 1 output.\"\"\"\n",
    "    \n",
    "    def __init__(self):\n",
    "        # Initialize the perceptron weights and the bias term.\n",
    "        self._w = [0, 0]\n",
    "        self._b = 0\n",
    "    \n",
    "    def predict(self, x, verbose=False):\n",
    "        \"\"\"x is the input weight vector. Output is the result of running the perceptron on this input.\n",
    "        \n",
    "        Implement the Perceptron rule that involves multiplying weights by input, adding in bias, using a threshold, etc.\n",
    "        \n",
    "        The returned output should be 1 or 0.\n",
    "        \n",
    "        Use the \"verbose\" flag to print debugging info if desired.\n",
    "        \"\"\"\n",
    "        activation = self._b\n",
    "        for i in range(len(x)):\n",
    "            activation += x[i] * self._w[i]\n",
    "        \n",
    "        if verbose:\n",
    "            print(\"Activation %f\" % activation)\n",
    "        \n",
    "        return 1 if activation >= 0.5 else 0\n",
    "        \n",
    "    def accuracy(self, x, y):\n",
    "        \"\"\"Compute the total % accuracy over a set of inputs x and corresponding outputs y.\"\"\"\n",
    "        correct = 0\n",
    "        for i in range(len(x)):\n",
    "            example_x = x[i]\n",
    "            example_y = y[i]\n",
    "            if self.predict(example_x) == example_y:\n",
    "                correct += 1\n",
    "        return float(correct) / len(x)\n",
    "            \n",
    "    def train(self, x, y, num_iterations, verbose=False):\n",
    "        \"\"\"Train the perceptron for the given number of iterations on the input data x with \n",
    "        corresponding target values y.\n",
    "        \n",
    "        Use the \"verbose\" flag to print debugging info if desired.\n",
    "        \"\"\"\n",
    "        assert(len(x) == len(y))\n",
    "        for i in range(num_iterations):\n",
    "            print('Iter #%d' % i)\n",
    "            for j in range(len(x)):\n",
    "                instance_x = x[j]\n",
    "                true_y = y[j]\n",
    "                \n",
    "                pred_y = self.predict(instance_x)\n",
    "                error = (true_y - pred_y)\n",
    "                self._b = self._b + error\n",
    "                \n",
    "                for i in range(len(self._w)):\n",
    "                    self._w[i] = self._w[i] + (error * instance_x[i])\n",
    "\n",
    "                    \n",
    "                if verbose:\n",
    "                    print(\"Error %.2f, Weights: [%.2f, %.2f]\" % (error, self._w[0], self._[1]))\n",
    "                    \n",
    "            print('Weights: %.2f, %.2f' % (self._w[0], self._w[1]))\n",
    "            print('Bias: %.2f' % self._b)  \n",
    "            acc = self.accuracy(x, y)\n",
    "            print('Accuracy: %.3f%%' % (acc * 100))\n",
    "            print()"
   ]
  },
  {
   "cell_type": "markdown",
   "metadata": {},
   "source": [
    "## Set up dataset for training a Setosa/not-Setosa classifier"
   ]
  },
  {
   "cell_type": "code",
   "execution_count": 30,
   "metadata": {
    "nbgrader": {
     "grade": false,
     "locked": true,
     "solution": false
    }
   },
   "outputs": [],
   "source": [
    "def get_shuffled_data(x, y):\n",
    "    \"\"\"Convenient function to shuffle data and outputs, to inject some randomness into training.\"\"\"\n",
    "    # Create shuffle pattern of indices.\n",
    "    s = np.arange(x.shape[0])\n",
    "    np.random.shuffle(s)\n",
    "    \n",
    "    # Apply suffle pattern to x and y.\n",
    "    x_shuffled = x[s]\n",
    "    y_shuffled = y[s]\n",
    "    return x_shuffled, y_shuffled"
   ]
  },
  {
   "cell_type": "code",
   "execution_count": 31,
   "metadata": {
    "nbgrader": {
     "grade": false,
     "locked": true,
     "solution": false
    }
   },
   "outputs": [],
   "source": [
    "# Map data labels to just two categories.\n",
    "y_two_categories = np.array([0 if i==0 else 1 for i in y])"
   ]
  },
  {
   "cell_type": "code",
   "execution_count": 38,
   "metadata": {
    "nbgrader": {
     "grade": false,
     "locked": true,
     "solution": false
    }
   },
   "outputs": [],
   "source": [
    "X_shuffled, y_shuffled = get_shuffled_data(X, y_two_categories)"
   ]
  },
  {
   "cell_type": "markdown",
   "metadata": {
    "nbgrader": {
     "grade": false,
     "locked": true,
     "solution": false
    }
   },
   "source": [
    "## Train a perceptron on the shuffled data\n",
    "Try to get as high an accuracy as possible."
   ]
  },
  {
   "cell_type": "code",
   "execution_count": 55,
   "metadata": {
    "nbgrader": {
     "grade": false,
     "locked": false,
     "solution": false
    }
   },
   "outputs": [
    {
     "name": "stdout",
     "output_type": "stream",
     "text": [
      "Iter #0\n",
      "Weights: 6.10, -9.40\n",
      "Bias: -2.00\n",
      "Accuracy: 99.333%\n",
      "\n",
      "Iter #1\n",
      "Weights: 9.30, -15.10\n",
      "Bias: -3.00\n",
      "Accuracy: 99.333%\n",
      "\n",
      "Iter #2\n",
      "Weights: 13.80, -20.60\n",
      "Bias: -4.00\n",
      "Accuracy: 98.000%\n",
      "\n"
     ]
    }
   ],
   "source": [
    "p = Perceptron()\n",
    "p.train(X_shuffled, y_shuffled, 3)"
   ]
  },
  {
   "cell_type": "markdown",
   "metadata": {
    "nbgrader": {
     "grade": false,
     "locked": true,
     "solution": false
    }
   },
   "source": [
    "## Plot the learned perceptron decision boundary"
   ]
  },
  {
   "cell_type": "markdown",
   "metadata": {
    "nbgrader": {
     "grade": false,
     "locked": true,
     "solution": false
    }
   },
   "source": [
    "Our perceptron makes decisions based on the value of b + w1x1 + w2x2. We can set this to 0 and solve to find the decision boundary. \n",
    "\n",
    "Complete the function below to compute x2 (the y axis in the plot above) as a function of b, w1, x1, w2 for a given perceptron:  \n",
    "x2 = (-b - w1x1) / w2"
   ]
  },
  {
   "cell_type": "code",
   "execution_count": 68,
   "metadata": {
    "nbgrader": {
     "grade": false,
     "locked": false,
     "solution": false
    }
   },
   "outputs": [],
   "source": [
    "def get_y_decision_boundary(x1, per):\n",
    "    x2 = (-per._b - (per._w[0] * x1))/per._w[1]\n",
    "    return x2"
   ]
  },
  {
   "cell_type": "markdown",
   "metadata": {
    "nbgrader": {
     "grade": false,
     "locked": true,
     "solution": false
    }
   },
   "source": [
    "### Compute the decision boundary for the perceptron trained above, and plot it."
   ]
  },
  {
   "cell_type": "code",
   "execution_count": 70,
   "metadata": {
    "nbgrader": {
     "grade": false,
     "locked": true,
     "solution": false
    }
   },
   "outputs": [
    {
     "data": {
      "text/plain": [
       "(2.6864077669902913, 5.098058252427185)"
      ]
     },
     "execution_count": 70,
     "metadata": {},
     "output_type": "execute_result"
    }
   ],
   "source": [
    "y1 = get_y_decision_boundary(x_min, p)\n",
    "y2 = get_y_decision_boundary(x_max, p)\n",
    "y1, y2"
   ]
  },
  {
   "cell_type": "code",
   "execution_count": 71,
   "metadata": {
    "nbgrader": {
     "grade": false,
     "locked": true,
     "solution": false
    }
   },
   "outputs": [
    {
     "data": {
      "text/plain": [
       "[<matplotlib.lines.Line2D at 0x7fa0057caa58>]"
      ]
     },
     "execution_count": 71,
     "metadata": {},
     "output_type": "execute_result"
    },
    {
     "data": {
      "image/png": "[encoded data removed]",
      "text/plain": [
       "<Figure size 576x432 with 1 Axes>"
      ]
     },
     "metadata": {
      "needs_background": "light"
     },
     "output_type": "display_data"
    }
   ],
   "source": [
    "make_plot()\n",
    "plt.plot([x_min,x_max], [y1,y2], ls='dashed', c='tab:red')"
   ]
  },
  {
   "cell_type": "markdown",
   "metadata": {
    "nbgrader": {
     "grade": false,
     "locked": true,
     "solution": false
    }
   },
   "source": [
    "## Another model: Virginica/not-Virginica classifier"
   ]
  },
  {
   "cell_type": "markdown",
   "metadata": {
    "nbgrader": {
     "grade": false,
     "locked": true,
     "solution": false
    }
   },
   "source": [
    "Build a new model, but grouping categories 0 and 1 together, trying to separate out Virginica from the other two classes."
   ]
  },
  {
   "cell_type": "code",
   "execution_count": 61,
   "metadata": {
    "nbgrader": {
     "grade": false,
     "locked": true,
     "solution": false
    }
   },
   "outputs": [],
   "source": [
    "y_two_categories_2 = np.array([0 if i==2 else 1 for i in y])"
   ]
  },
  {
   "cell_type": "code",
   "execution_count": 65,
   "metadata": {},
   "outputs": [
    {
     "name": "stdout",
     "output_type": "stream",
     "text": [
      "Iter #0\n",
      "Weights: -8.30, 16.10\n",
      "Bias: 5.00\n",
      "Accuracy: 70.000%\n",
      "\n",
      "Iter #1\n",
      "Weights: -10.50, 25.10\n",
      "Bias: 10.00\n",
      "Accuracy: 67.333%\n",
      "\n",
      "Iter #2\n",
      "Weights: -11.50, 29.20\n",
      "Bias: 13.00\n",
      "Accuracy: 67.333%\n",
      "\n",
      "Iter #3\n",
      "Weights: -12.90, 29.40\n",
      "Bias: 16.00\n",
      "Accuracy: 68.000%\n",
      "\n"
     ]
    }
   ],
   "source": [
    "X_shuffled, y_shuffled = get_shuffled_data(X, y_two_categories_2)\n",
    "p2 = Perceptron()\n",
    "p2.train(X_shuffled, y_shuffled, 4)"
   ]
  },
  {
   "cell_type": "markdown",
   "metadata": {},
   "source": [
    "# Calculate the decision boundary and plot it."
   ]
  },
  {
   "cell_type": "code",
   "execution_count": 72,
   "metadata": {
    "nbgrader": {
     "grade": false,
     "locked": true,
     "solution": false
    }
   },
   "outputs": [],
   "source": [
    "y1 = get_y_decision_boundary(x_min, p2)\n",
    "y2 = get_y_decision_boundary(x_max, p2)"
   ]
  },
  {
   "cell_type": "code",
   "execution_count": 73,
   "metadata": {
    "nbgrader": {
     "grade": false,
     "locked": true,
     "solution": false
    }
   },
   "outputs": [
    {
     "data": {
      "text/plain": [
       "[<matplotlib.lines.Line2D at 0x7fa0057cad68>]"
      ]
     },
     "execution_count": 73,
     "metadata": {},
     "output_type": "execute_result"
    },
    {
     "data": {
      "image/png": "[encoded data removed]",
      "text/plain": [
       "<Figure size 576x432 with 1 Axes>"
      ]
     },
     "metadata": {
      "needs_background": "light"
     },
     "output_type": "display_data"
    }
   ],
   "source": [
    "make_plot()\n",
    "plt.plot([x_min,x_max], [y1,y2], ls='dashed', c='tab:red')"
   ]
  },
  {
   "cell_type": "markdown",
   "metadata": {
    "nbgrader": {
     "grade": false,
     "locked": true,
     "solution": false
    }
   },
   "source": [
    "# Discuss the results in the cell below. How did the two perceptrons compare? "
   ]
  },
  {
   "cell_type": "markdown",
   "metadata": {},
   "source": [
    "The first perceptor did extremely well because the representation of the data matched the bias of its activation function. Its possible to separate almost with a clean line setosa from versicolour and virginica. On the other side, the linear function activation didn't worked so well between versicolour and virginica because the data is not explainable via the current representation."
   ]
  },
  {
   "cell_type": "code",
   "execution_count": null,
   "metadata": {},
   "outputs": [],
   "source": []
  }
 ],
 "metadata": {
  "kernelspec": {
   "display_name": "Python 3",
   "language": "python",
   "name": "python3"
  },
  "language_info": {
   "codemirror_mode": {
    "name": "ipython",
    "version": 3
   },
   "file_extension": ".py",
   "mimetype": "text/x-python",
   "name": "python",
   "nbconvert_exporter": "python",
   "pygments_lexer": "ipython3",
   "version": "3.5.3"
  }
 },
 "nbformat": 4,
 "nbformat_minor": 4
}
